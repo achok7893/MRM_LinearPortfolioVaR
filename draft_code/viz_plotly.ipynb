{
 "cells": [
  {
   "cell_type": "code",
   "execution_count": null,
   "id": "47ca4cb2-f7e8-439c-88c0-2160d233351f",
   "metadata": {},
   "outputs": [],
   "source": [
    "import plotly.graph_objects as go\n",
    "from plotly.subplots import make_subplots\n",
    "import plotly.io as pio\n",
    "\n",
    "# Create a new figure for the HTML layout\n",
    "html_layout = make_subplots(rows=5, cols=1)\n",
    "\n",
    "l_figs = [fig1, fig2, fig3, fig4, fig5]\n",
    "\n",
    "# Add each figure to the layout with titles separating them\n",
    "\n",
    "for i, fig_p in enumerate(l_figs):\n",
    "    \n",
    "    for trace in fig_p['data']:\n",
    "        html_layout.add_trace(trace, row=i+1, col=1)\n",
    "    html_layout.add_trace(go.Scatter(), row=i+1, col=1)\n",
    "    \n",
    "    html_layout.add_trace(go.Scatter(x=[None], y=[None], mode='text', text=['']), row=i+1, col=1)\n",
    "\n",
    "\n",
    "# Set titles for each section\n",
    "html_layout.update_layout(\n",
    "    title_text='Figure 1 Title',\n",
    "    annotations=[\n",
    "        dict(\n",
    "            x=0.5,\n",
    "            y=1,\n",
    "            xref=\"paper\",\n",
    "            yref=\"paper\",\n",
    "            text=\"Figure 1 Title\",\n",
    "            showarrow=False,\n",
    "            font=dict(\n",
    "                size=16\n",
    "            )\n",
    "        ),\n",
    "        # Add more annotations for titles as needed\n",
    "    ]\n",
    ")\n",
    "\n",
    "# Save the layout to an HTML file\n",
    "pio.write_html(html_layout, 'output.html')"
   ]
  }
 ],
 "metadata": {
  "kernelspec": {
   "display_name": "Python 3 (ipykernel)",
   "language": "python",
   "name": "python3"
  },
  "language_info": {
   "codemirror_mode": {
    "name": "ipython",
    "version": 3
   },
   "file_extension": ".py",
   "mimetype": "text/x-python",
   "name": "python",
   "nbconvert_exporter": "python",
   "pygments_lexer": "ipython3",
   "version": "3.12.3"
  }
 },
 "nbformat": 4,
 "nbformat_minor": 5
}
